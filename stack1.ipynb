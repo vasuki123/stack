{
  "nbformat": 4,
  "nbformat_minor": 0,
  "metadata": {
    "colab": {
      "provenance": []
    },
    "kernelspec": {
      "name": "python3",
      "display_name": "Python 3"
    },
    "language_info": {
      "name": "python"
    }
  },
  "cells": [
    {
      "cell_type": "code",
      "execution_count": 24,
      "metadata": {
        "colab": {
          "base_uri": "https://localhost:8080/"
        },
        "id": "_sH6Ew3491Re",
        "outputId": "37ec44b6-4e79-4676-9a39-fced52f54ad2"
      },
      "outputs": [
        {
          "output_type": "stream",
          "name": "stdout",
          "text": [
            "9036\n"
          ]
        }
      ],
      "source": [
        "class stack:\n",
        " def __init__(self):\n",
        "  self.value_stack = []\n",
        "  self.operator_stack = []\n",
        "  self.operators = {'+': lambda x,y: x+y, '-': lambda x, y: x-y,'*':lambda x,y:x*y,'/': lambda x, y: x/y} \n",
        " def push_value(self, value):\n",
        "   self.value_stack.append(value)\n",
        " def push_operator(self, operator):\n",
        "   self.operator_stack.append(operator)\n",
        " def process_right_parenthesis(self):\n",
        "   operator= self.operator_stack.pop()\n",
        "   value2 = self.value_stack.pop()\n",
        "   value1 = self.value_stack.pop()\n",
        "   result = self.operators[operator](value1, value2)\n",
        "   self.value_stack.append(result)\n",
        " def evaluate_expression(self, expression):\n",
        "   for token in expression:\n",
        "       if token.isdigit():\n",
        "         self.push_value(int(token))\n",
        "       elif token in self.operators:\n",
        "         self.push_operator(token)\n",
        "       elif token =='{':\n",
        "           pass\n",
        "       elif token =='}':\n",
        "           self.process_right_parenthesis()\n",
        "   while self.operator_stack:\n",
        "      operator = self.operator_stack.pop()\n",
        "      value2 = self.value_stack.pop()\n",
        "      value1 = self.value_stack.pop()\n",
        "      result = self.operators[operator](value1,value2)\n",
        "      self.value_stack.append(result)\n",
        "   return self.value_stack[0]\n",
        "expression = ['11', '+', '{', '{', '32', '+', '63', '}','*','95','}','}']\n",
        "stack = stack()\n",
        "result = stack.evaluate_expression(expression)\n",
        "print(result)\n"
      ]
    }
  ]
}